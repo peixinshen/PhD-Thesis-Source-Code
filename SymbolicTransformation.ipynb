{
 "cells": [
  {
   "cell_type": "markdown",
   "metadata": {},
   "source": [
    "# Symbolic Hamiltonian and Transformations"
   ]
  },
  {
   "cell_type": "markdown",
   "metadata": {},
   "source": [
    "In this notebook, I will show how to systematically construct the symbolic Hamiltonian of fermionic and spin models. I will introduce the Jordan-Wigner transformation and Majorana fermions. The code implementation is based on the open source frameworks, [OpenFermion](https://quantumai.google/openfermion) and [SymPy](https://www.sympy.org/en/index.html). "
   ]
  },
  {
   "cell_type": "markdown",
   "metadata": {},
   "source": [
    "## Function Definition"
   ]
  },
  {
   "cell_type": "code",
   "execution_count": 25,
   "metadata": {},
   "outputs": [],
   "source": [
    "from openfermion import *\n",
    "from sympy import *\n",
    "\n",
    "\n",
    "def spin_latex(H_spin_dict):\n",
    "    \"\"\"Convert the spin operators into LaTeX expression via SymPy\n",
    "\n",
    "    Parameters\n",
    "    ----------\n",
    "    H_spin_dict : dict\n",
    "        contains spin operators and their coefficients\n",
    "\n",
    "    Returns\n",
    "    -------\n",
    "    LaTeX expression\n",
    "        output the symbolic expression in LaTeX form\n",
    "    \"\"\"\n",
    "    expr = []\n",
    "    for key, value in H_spin_dict.items():\n",
    "        coefficient = nsimplify(simplify(value))\n",
    "        if isinstance(coefficient, Integer):\n",
    "            coefficient = sign(\n",
    "                coefficient)*UnevaluatedExpr(factorint(abs(coefficient), visual=True))\n",
    "        operator = []\n",
    "        for i_key in key:\n",
    "            operator.append(\n",
    "                symbols(i_key[1]+'_'+str(i_key[0]), commutative=False))\n",
    "        expr.append(coefficient*prod(operator))\n",
    "    return sum(expr)\n",
    "\n",
    "\n",
    "def fermion_latex(H_fermion_dict):\n",
    "    \"\"\"Convert the fermionic operators into LaTeX expression via SymPy\n",
    "\n",
    "    Parameters\n",
    "    ----------\n",
    "    H_fermion_dict : dict\n",
    "        contains fermionic operators and their coefficients\n",
    "\n",
    "    Returns\n",
    "    -------\n",
    "    LaTeX expression\n",
    "        output the symbolic expression in LaTeX form\n",
    "    \"\"\"\n",
    "    expr = []\n",
    "    for key, value in H_fermion_dict.items():\n",
    "        coefficient = nsimplify(simplify(value))\n",
    "        if isinstance(coefficient, Integer):\n",
    "            coefficient = sign(\n",
    "                coefficient)*UnevaluatedExpr(factorint(abs(coefficient), visual=True))\n",
    "        if key != ():\n",
    "            operator = []\n",
    "            for i_key in key:\n",
    "                if i_key[1] == 1:\n",
    "                    operator.append(\n",
    "                        symbols('c^\\dagger_'+str(i_key[0]), commutative=False))\n",
    "                else:\n",
    "                    operator.append(\n",
    "                        symbols('c_'+str(i_key[0]), commutative=False))\n",
    "        else:\n",
    "            operator = [1]\n",
    "        expr.append(coefficient*prod(operator))\n",
    "    return sum(expr)\n",
    "\n",
    "\n",
    "def majorana_latex(H_majorana_dict):\n",
    "    \"\"\"Convert the Majorana operators into LaTeX expression via SymPy\n",
    "\n",
    "    Parameters\n",
    "    ----------\n",
    "    H_majorana_dict : dict\n",
    "        contains Majorana operators and their coefficients\n",
    "\n",
    "    Returns\n",
    "    -------\n",
    "    LaTeX expression\n",
    "        output the symbolic expression in LaTeX form\n",
    "    \"\"\"\n",
    "    H_majorana_dict_nonzero = {key: value for key,\n",
    "                               value in H_majorana_dict.items() if value != 0}\n",
    "    expr = []\n",
    "    for key, value in H_majorana_dict_nonzero.items():\n",
    "        coefficient = nsimplify(simplify(value))\n",
    "        if isinstance(coefficient/I, Integer):\n",
    "            coefficient = sign(\n",
    "                coefficient)*UnevaluatedExpr(factorint(abs(coefficient), visual=True))\n",
    "        if key != ():\n",
    "            operator = []\n",
    "            for i_key in key:\n",
    "                operator.append(\n",
    "                    symbols('\\gamma_'+str(i_key), commutative=False))\n",
    "        else:\n",
    "            operator = [1]\n",
    "        expr.append(coefficient*prod(operator))\n",
    "    return sum(expr)\n"
   ]
  },
  {
   "cell_type": "markdown",
   "metadata": {},
   "source": [
    "## Spin Chain"
   ]
  },
  {
   "cell_type": "markdown",
   "metadata": {},
   "source": [
    "The general anisotropic 1D spin-1/2 chain of 4 sites with nearest-neighbor exchange couplings under the open boundary condition is described by the Hamiltonian in Equation (1.12)."
   ]
  },
  {
   "cell_type": "code",
   "execution_count": 26,
   "metadata": {},
   "outputs": [
    {
     "data": {
      "text/latex": [
       "$\\displaystyle - {\\alpha}_{0} Y_{0} Y_{1} - {\\alpha}_{1} Y_{1} Y_{2} - {\\alpha}_{2} Y_{2} Y_{3} - {\\beta}_{0} Z_{0} Z_{1} - {\\beta}_{1} Z_{1} Z_{2} - {\\beta}_{2} Z_{2} Z_{3} - {g}_{0} Z_{0} - {g}_{1} Z_{1} - {g}_{2} Z_{2} - {g}_{3} Z_{3} - 1 X_{0} X_{1} - 1 X_{1} X_{2} - 1 X_{2} X_{3}$"
      ],
      "text/plain": [
       "-alpha[0]*Y_0*Y_1 - alpha[1]*Y_1*Y_2 - alpha[2]*Y_2*Y_3 - beta[0]*Z_0*Z_1 - beta[1]*Z_1*Z_2 - beta[2]*Z_2*Z_3 - g[0]*Z_0 - g[1]*Z_1 - g[2]*Z_2 - g[3]*Z_3 - 1*X_0*X_1 - 1*X_1*X_2 - 1*X_2*X_3"
      ]
     },
     "execution_count": 26,
     "metadata": {},
     "output_type": "execute_result"
    }
   ],
   "source": [
    "n_qubits = 4\n",
    "alpha, beta_, g = symbols('alpha, beta, g')\n",
    "H_spin = QubitOperator()\n",
    "for j in range(n_qubits-1):\n",
    "    H_spin += QubitOperator(((j, 'Z')), -Indexed(g, j))\n",
    "    H_spin += QubitOperator(((j, 'X'), (j+1, 'X')), -1)\n",
    "    H_spin += QubitOperator(((j, 'Y'), (j+1, 'Y')), -Indexed(alpha, j))\n",
    "    H_spin += QubitOperator(((j, 'Z'), (j+1, 'Z')), -Indexed(beta_, j))\n",
    "H_spin += QubitOperator(((n_qubits-1, 'Z')), -Indexed(g, n_qubits-1))\n",
    "spin_latex(H_spin.terms)\n"
   ]
  },
  {
   "cell_type": "markdown",
   "metadata": {},
   "source": [
    "## The $p$-wave superconductor"
   ]
  },
  {
   "cell_type": "markdown",
   "metadata": {},
   "source": [
    "The one-dimensional tight-binding $p$-wave superconductor, whose Hamiltonian in Equation (1.16) is quadratic."
   ]
  },
  {
   "cell_type": "code",
   "execution_count": 27,
   "metadata": {},
   "outputs": [
    {
     "data": {
      "text/latex": [
       "$\\displaystyle - \\overline{{\\Delta}_{0}} c_{1} c_{0} - \\overline{{\\Delta}_{1}} c_{2} c_{1} - \\overline{{\\Delta}_{2}} c_{3} c_{2} - \\overline{{t}_{0}} c^{\\dagger}_{1} c_{0} - \\overline{{t}_{1}} c^{\\dagger}_{2} c_{1} - \\overline{{t}_{2}} c^{\\dagger}_{3} c_{2} - {\\Delta}_{0} c^{\\dagger}_{0} c^{\\dagger}_{1} - {\\Delta}_{1} c^{\\dagger}_{1} c^{\\dagger}_{2} - {\\Delta}_{2} c^{\\dagger}_{2} c^{\\dagger}_{3} + \\frac{{\\mu}_{0}}{2} - {\\mu}_{0} c^{\\dagger}_{0} c_{0} + \\frac{{\\mu}_{1}}{2} - {\\mu}_{1} c^{\\dagger}_{1} c_{1} + \\frac{{\\mu}_{2}}{2} - {\\mu}_{2} c^{\\dagger}_{2} c_{2} + \\frac{{\\mu}_{3}}{2} - {\\mu}_{3} c^{\\dagger}_{3} c_{3} - {t}_{0} c^{\\dagger}_{0} c_{1} - {t}_{1} c^{\\dagger}_{1} c_{2} - {t}_{2} c^{\\dagger}_{2} c_{3}$"
      ],
      "text/plain": [
       "-conjugate(Delta[0])*c_1*c_0 - conjugate(Delta[1])*c_2*c_1 - conjugate(Delta[2])*c_3*c_2 - conjugate(t[0])*c^\\dagger_1*c_0 - conjugate(t[1])*c^\\dagger_2*c_1 - conjugate(t[2])*c^\\dagger_3*c_2 - Delta[0]*c^\\dagger_0*c^\\dagger_1 - Delta[1]*c^\\dagger_1*c^\\dagger_2 - Delta[2]*c^\\dagger_2*c^\\dagger_3 + mu[0]/2 - mu[0]*c^\\dagger_0*c_0 + mu[1]/2 - mu[1]*c^\\dagger_1*c_1 + mu[2]/2 - mu[2]*c^\\dagger_2*c_2 + mu[3]/2 - mu[3]*c^\\dagger_3*c_3 - t[0]*c^\\dagger_0*c_1 - t[1]*c^\\dagger_1*c_2 - t[2]*c^\\dagger_2*c_3"
      ]
     },
     "execution_count": 27,
     "metadata": {},
     "output_type": "execute_result"
    }
   ],
   "source": [
    "n_sites = 4\n",
    "t, Delta, mu = symbols('t, Delta, mu')\n",
    "H_fermion = FermionOperator()\n",
    "for j in range(n_sites-1):\n",
    "    H_fermion += FermionOperator(((j, 1), (j, 0)), -\n",
    "                                 Indexed(mu, j)) + Rational(1/2)*Indexed(mu, j)\n",
    "    H_fermion += FermionOperator(((j, 1), (j+1, 0)), -Indexed(t, j))\n",
    "    H_fermion += FermionOperator(((j+1, 1), (j, 0)), -\n",
    "                                 Indexed(t, j).conjugate())\n",
    "    H_fermion += FermionOperator(((j, 1), (j+1, 1)), -Indexed(Delta, j))\n",
    "    H_fermion += FermionOperator(((j+1, 0), (j, 0)), -\n",
    "                                 Indexed(Delta, j).conjugate())\n",
    "H_fermion += FermionOperator(((n_sites-1, 1), (n_sites-1, 0)), -\n",
    "                             Indexed(mu, n_sites-1)) + Rational(1/2)*Indexed(mu, n_sites-1)\n",
    "fermion_latex(H_fermion.terms)\n"
   ]
  },
  {
   "cell_type": "markdown",
   "metadata": {},
   "source": [
    "We assign some numerical value for the coupling parameters"
   ]
  },
  {
   "cell_type": "code",
   "execution_count": 28,
   "metadata": {},
   "outputs": [
    {
     "data": {
      "text/latex": [
       "$\\displaystyle 14 - 5 c^{\\dagger}_{0} c^{\\dagger}_{1} - 7 c^{\\dagger}_{0} c_{0} - 3 c^{\\dagger}_{0} c_{1} - 5 c^{\\dagger}_{1} c^{\\dagger}_{2} - 3 c^{\\dagger}_{1} c_{0} - 7 c^{\\dagger}_{1} c_{1} - 3 c^{\\dagger}_{1} c_{2} - 5 c^{\\dagger}_{2} c^{\\dagger}_{3} - 3 c^{\\dagger}_{2} c_{1} - 7 c^{\\dagger}_{2} c_{2} - 3 c^{\\dagger}_{2} c_{3} - 3 c^{\\dagger}_{3} c_{2} - 7 c^{\\dagger}_{3} c_{3} - 5 c_{1} c_{0} - 5 c_{2} c_{1} - 5 c_{3} c_{2}$"
      ],
      "text/plain": [
       "14 - 5*c^\\dagger_0*c^\\dagger_1 - 7*c^\\dagger_0*c_0 - 3*c^\\dagger_0*c_1 - 5*c^\\dagger_1*c^\\dagger_2 - 3*c^\\dagger_1*c_0 - 7*c^\\dagger_1*c_1 - 3*c^\\dagger_1*c_2 - 5*c^\\dagger_2*c^\\dagger_3 - 3*c^\\dagger_2*c_1 - 7*c^\\dagger_2*c_2 - 3*c^\\dagger_2*c_3 - 3*c^\\dagger_3*c_2 - 7*c^\\dagger_3*c_3 - 5*c_1*c_0 - 5*c_2*c_1 - 5*c_3*c_2"
      ]
     },
     "execution_count": 28,
     "metadata": {},
     "output_type": "execute_result"
    }
   ],
   "source": [
    "n_sites = 4\n",
    "t, Delta, mu = 3, 5, 7\n",
    "H_fermion = FermionOperator()\n",
    "for j in range(n_sites-1):\n",
    "    H_fermion += FermionOperator(((j, 1), (j, 0)), -mu) + 1/2*mu\n",
    "    H_fermion += FermionOperator(((j, 1), (j+1, 0)), -t)\n",
    "    H_fermion += FermionOperator(((j+1, 1), (j, 0)), -t)\n",
    "    H_fermion += FermionOperator(((j, 1), (j+1, 1)), -Delta)\n",
    "    H_fermion += FermionOperator(((j+1, 0), (j, 0)), -Delta)\n",
    "H_fermion += FermionOperator(((n_sites-1, 1), (n_sites-1, 0)), -mu) + 1/2*mu\n",
    "fermion_latex(H_fermion.terms).doit()\n"
   ]
  },
  {
   "cell_type": "markdown",
   "metadata": {},
   "source": [
    "The Hermitian part $S = S^\\dagger$ of the Bogoliubov-de Gennes Hamiltonian is"
   ]
  },
  {
   "cell_type": "code",
   "execution_count": 29,
   "metadata": {},
   "outputs": [
    {
     "data": {
      "text/plain": [
       "array([[-7., -3.,  0.,  0.],\n",
       "       [-3., -7., -3.,  0.],\n",
       "       [ 0., -3., -7., -3.],\n",
       "       [ 0.,  0., -3., -7.]])"
      ]
     },
     "execution_count": 29,
     "metadata": {},
     "output_type": "execute_result"
    }
   ],
   "source": [
    "get_quadratic_hamiltonian(H_fermion).hermitian_part.real\n"
   ]
  },
  {
   "cell_type": "markdown",
   "metadata": {},
   "source": [
    "The anti-symmetric part $A = - A^T$ of the Bogoliubov-de Gennes Hamiltonian is"
   ]
  },
  {
   "cell_type": "code",
   "execution_count": 30,
   "metadata": {},
   "outputs": [
    {
     "data": {
      "text/plain": [
       "array([[ 0., -5.,  0.,  0.],\n",
       "       [ 5.,  0., -5.,  0.],\n",
       "       [ 0.,  5.,  0., -5.],\n",
       "       [ 0.,  0.,  5.,  0.]])"
      ]
     },
     "execution_count": 30,
     "metadata": {},
     "output_type": "execute_result"
    }
   ],
   "source": [
    "get_quadratic_hamiltonian(H_fermion).antisymmetric_part.real\n"
   ]
  },
  {
   "cell_type": "markdown",
   "metadata": {},
   "source": [
    "## Majorana Representation"
   ]
  },
  {
   "cell_type": "markdown",
   "metadata": {},
   "source": [
    "We can transform the Hamiltonian of the $p$-wave superconducting model from fermionic representation to Majorana representation (we set $t_i=t^*_i=\\Delta_i=\\Delta^*_i=3$ and $\\mu_i = 2$ for demonstration):"
   ]
  },
  {
   "cell_type": "code",
   "execution_count": 31,
   "metadata": {},
   "outputs": [
    {
     "data": {
      "text/latex": [
       "$\\displaystyle 4 - 3 c^{\\dagger}_{0} c^{\\dagger}_{1} - 2 c^{\\dagger}_{0} c_{0} - 3 c^{\\dagger}_{0} c_{1} - 3 c^{\\dagger}_{1} c^{\\dagger}_{2} - 3 c^{\\dagger}_{1} c_{0} - 2 c^{\\dagger}_{1} c_{1} - 3 c^{\\dagger}_{1} c_{2} - 3 c^{\\dagger}_{2} c^{\\dagger}_{3} - 3 c^{\\dagger}_{2} c_{1} - 2 c^{\\dagger}_{2} c_{2} - 3 c^{\\dagger}_{2} c_{3} - 3 c^{\\dagger}_{3} c_{2} - 2 c^{\\dagger}_{3} c_{3} - 3 c_{1} c_{0} - 3 c_{2} c_{1} - 3 c_{3} c_{2}$"
      ],
      "text/plain": [
       "4 - 3*c^\\dagger_0*c^\\dagger_1 - 2*c^\\dagger_0*c_0 - 3*c^\\dagger_0*c_1 - 3*c^\\dagger_1*c^\\dagger_2 - 3*c^\\dagger_1*c_0 - 2*c^\\dagger_1*c_1 - 3*c^\\dagger_1*c_2 - 3*c^\\dagger_2*c^\\dagger_3 - 3*c^\\dagger_2*c_1 - 2*c^\\dagger_2*c_2 - 3*c^\\dagger_2*c_3 - 3*c^\\dagger_3*c_2 - 2*c^\\dagger_3*c_3 - 3*c_1*c_0 - 3*c_2*c_1 - 3*c_3*c_2"
      ]
     },
     "execution_count": 31,
     "metadata": {},
     "output_type": "execute_result"
    }
   ],
   "source": [
    "n_sites = 4\n",
    "t, Delta, mu = 3, 3, 2\n",
    "H_fermion = FermionOperator()\n",
    "for j in range(n_sites-1):\n",
    "    H_fermion += FermionOperator(((j, 1), (j, 0)), -mu) + 1/2*mu\n",
    "    H_fermion += FermionOperator(((j, 1), (j+1, 0)), -t)\n",
    "    H_fermion += FermionOperator(((j+1, 1), (j, 0)), -t)\n",
    "    H_fermion += FermionOperator(((j, 1), (j+1, 1)), -Delta)\n",
    "    H_fermion += FermionOperator(((j+1, 0), (j, 0)), -Delta)\n",
    "H_fermion += FermionOperator(((n_sites-1, 1), (n_sites-1, 0)), -mu) + 1/2*mu\n",
    "fermion_latex(H_fermion.terms).doit()\n"
   ]
  },
  {
   "cell_type": "markdown",
   "metadata": {},
   "source": [
    "Here is an instance of Equation (1.46)."
   ]
  },
  {
   "cell_type": "code",
   "execution_count": 32,
   "metadata": {},
   "outputs": [
    {
     "data": {
      "text/latex": [
       "$\\displaystyle i \\left(- \\gamma_{0} \\gamma_{1} + 3 \\gamma_{1} \\gamma_{2} - \\gamma_{2} \\gamma_{3} + 3 \\gamma_{3} \\gamma_{4} - \\gamma_{4} \\gamma_{5} + 3 \\gamma_{5} \\gamma_{6} - \\gamma_{6} \\gamma_{7}\\right)$"
      ],
      "text/plain": [
       "I*(-\\gamma_0*\\gamma_1 + 3*\\gamma_1*\\gamma_2 - \\gamma_2*\\gamma_3 + 3*\\gamma_3*\\gamma_4 - \\gamma_4*\\gamma_5 + 3*\\gamma_5*\\gamma_6 - \\gamma_6*\\gamma_7)"
      ]
     },
     "execution_count": 32,
     "metadata": {},
     "output_type": "execute_result"
    }
   ],
   "source": [
    "H_majorana_dict = get_majorana_operator(H_fermion).terms\n",
    "majorana_latex(H_majorana_dict).simplify()\n"
   ]
  },
  {
   "cell_type": "markdown",
   "metadata": {},
   "source": [
    "## Jordan-Wigner Transformation"
   ]
  },
  {
   "cell_type": "markdown",
   "metadata": {},
   "source": [
    "Here we explicitly how to transform the spin Hamiltonian in Equation (1.12) into fermionic Hamiltonian in Equation (1.65). We remark that OpenFermion adopts the transformation in the quantum chemistry community, which differs a minus sign of the couplings $g$ along the $z$-direction"
   ]
  },
  {
   "cell_type": "code",
   "execution_count": 21,
   "metadata": {},
   "outputs": [
    {
     "data": {
      "text/latex": [
       "$\\displaystyle - 1 X_{0} X_{1} - 1 X_{1} X_{2} - 1 X_{2} X_{3} - 3^{1} Y_{0} Y_{1} - 3^{1} Y_{1} Y_{2} - 3^{1} Y_{2} Y_{3} - 5^{1} Z_{0} Z_{1} - 5^{1} Z_{1} Z_{2} - 5^{1} Z_{2} Z_{3} + 7^{1} Z_{0} + 7^{1} Z_{1} + 7^{1} Z_{2} + 7^{1} Z_{3}$"
      ],
      "text/plain": [
       "-1*X_0*X_1 - 1*X_1*X_2 - 1*X_2*X_3 - 3**1*Y_0*Y_1 - 3**1*Y_1*Y_2 - 3**1*Y_2*Y_3 - 5**1*Z_0*Z_1 - 5**1*Z_1*Z_2 - 5**1*Z_2*Z_3 + 7**1*Z_0 + 7**1*Z_1 + 7**1*Z_2 + 7**1*Z_3"
      ]
     },
     "execution_count": 21,
     "metadata": {},
     "output_type": "execute_result"
    }
   ],
   "source": [
    "n_qubits = 4\n",
    "alpha, beta_, g = 3, 5, -7\n",
    "H_spin = QubitOperator()\n",
    "for j in range(n_qubits-1):\n",
    "    H_spin += QubitOperator(((j, 'Z')), -g)\n",
    "    H_spin += QubitOperator(((j, 'X'), (j+1, 'X')), -1)\n",
    "    H_spin += QubitOperator(((j, 'Y'), (j+1, 'Y')), -alpha)\n",
    "    H_spin += QubitOperator(((j, 'Z'), (j+1, 'Z')), -beta_)\n",
    "H_spin += QubitOperator(((n_qubits-1, 'Z')), -g)\n",
    "spin_latex(H_spin.terms)\n"
   ]
  },
  {
   "cell_type": "markdown",
   "metadata": {},
   "source": [
    "Apply the Jordan-Wigner transformation, one can obtain the fermionic representation."
   ]
  },
  {
   "cell_type": "code",
   "execution_count": 22,
   "metadata": {},
   "outputs": [
    {
     "data": {
      "text/latex": [
       "$\\displaystyle 13^{1} - 2^{1} c^{\\dagger}_{1} c^{\\dagger}_{0} - 2^{1} c^{\\dagger}_{2} c^{\\dagger}_{1} - 2^{1} c^{\\dagger}_{3} c^{\\dagger}_{2} + 2^{1} c_{1} c_{0} + 2^{1} c_{2} c_{1} + 2^{1} c_{3} c_{2} - 2^{2} c^{\\dagger}_{0} c_{0} - 2^{2} c^{\\dagger}_{0} c_{1} - 2^{2} c^{\\dagger}_{1} c_{0} - 2^{2} c^{\\dagger}_{1} c_{2} - 2^{2} c^{\\dagger}_{2} c_{1} - 2^{2} c^{\\dagger}_{2} c_{3} - 2^{2} c^{\\dagger}_{3} c_{2} - 2^{2} c^{\\dagger}_{3} c_{3} + 2^{1} \\cdot 3^{1} c^{\\dagger}_{1} c_{1} + 2^{1} \\cdot 3^{1} c^{\\dagger}_{2} c_{2} + 2^{2} \\cdot 5^{1} c^{\\dagger}_{1} c^{\\dagger}_{0} c_{1} c_{0} + 2^{2} \\cdot 5^{1} c^{\\dagger}_{2} c^{\\dagger}_{1} c_{2} c_{1} + 2^{2} \\cdot 5^{1} c^{\\dagger}_{3} c^{\\dagger}_{2} c_{3} c_{2}$"
      ],
      "text/plain": [
       "13**1 - 2**1*c^\\dagger_1*c^\\dagger_0 - 2**1*c^\\dagger_2*c^\\dagger_1 - 2**1*c^\\dagger_3*c^\\dagger_2 + 2**1*c_1*c_0 + 2**1*c_2*c_1 + 2**1*c_3*c_2 - 2**2*c^\\dagger_0*c_0 - 2**2*c^\\dagger_0*c_1 - 2**2*c^\\dagger_1*c_0 - 2**2*c^\\dagger_1*c_2 - 2**2*c^\\dagger_2*c_1 - 2**2*c^\\dagger_2*c_3 - 2**2*c^\\dagger_3*c_2 - 2**2*c^\\dagger_3*c_3 + (2**1*3**1)*c^\\dagger_1*c_1 + (2**1*3**1)*c^\\dagger_2*c_2 + (2**2*5**1)*c^\\dagger_1*c^\\dagger_0*c_1*c_0 + (2**2*5**1)*c^\\dagger_2*c^\\dagger_1*c_2*c_1 + (2**2*5**1)*c^\\dagger_3*c^\\dagger_2*c_3*c_2"
      ]
     },
     "execution_count": 22,
     "metadata": {},
     "output_type": "execute_result"
    }
   ],
   "source": [
    "H_fermion = normal_ordered(reverse_jordan_wigner(H_spin))\n",
    "fermion_latex(H_fermion.terms)\n"
   ]
  },
  {
   "cell_type": "markdown",
   "metadata": {},
   "source": [
    "We can also verify the transformation from Equation (4.1) to Equation (4.2)."
   ]
  },
  {
   "cell_type": "code",
   "execution_count": 23,
   "metadata": {},
   "outputs": [
    {
     "data": {
      "text/latex": [
       "$\\displaystyle 13^{1} Z_{0} + 13^{1} Z_{1} + 13^{1} Z_{2} + 13^{1} Z_{3} - 2^{2} X_{0} X_{1} - 2^{2} X_{1} X_{2} - 2^{2} X_{2} X_{3} - 3^{1} Y_{0} Y_{1} - 3^{1} Y_{1} Y_{2} - 3^{1} Y_{2} Y_{3} - 5^{1} Z_{0} Z_{1} - 5^{1} Z_{1} Z_{2} - 5^{1} Z_{2} Z_{3}$"
      ],
      "text/plain": [
       "13**1*Z_0 + 13**1*Z_1 + 13**1*Z_2 + 13**1*Z_3 - 2**2*X_0*X_1 - 2**2*X_1*X_2 - 2**2*X_2*X_3 - 3**1*Y_0*Y_1 - 3**1*Y_1*Y_2 - 3**1*Y_2*Y_3 - 5**1*Z_0*Z_1 - 5**1*Z_1*Z_2 - 5**1*Z_2*Z_3"
      ]
     },
     "execution_count": 23,
     "metadata": {},
     "output_type": "execute_result"
    }
   ],
   "source": [
    "n_qubits = 4\n",
    "J, t, gamma_, delta, g = 1, 7/2, 1/2, 5, -13\n",
    "H_spin = QubitOperator()\n",
    "for j in range(n_qubits-1):\n",
    "    H_spin += QubitOperator(((j, 'Z')), -J*g)\n",
    "    H_spin += QubitOperator(((j, 'X'), (j+1, 'X')), -J*(t + gamma_))\n",
    "    H_spin += QubitOperator(((j, 'Y'), (j+1, 'Y')), -J*(t - gamma_))\n",
    "    H_spin += QubitOperator(((j, 'Z'), (j+1, 'Z')), -J*delta)\n",
    "H_spin += QubitOperator(((n_qubits-1, 'Z')), -J*g)\n",
    "spin_latex(H_spin.terms)\n"
   ]
  },
  {
   "cell_type": "code",
   "execution_count": 24,
   "metadata": {},
   "outputs": [
    {
     "data": {
      "text/latex": [
       "$\\displaystyle 1 c^{\\dagger}_{1} c^{\\dagger}_{0} + 1 c^{\\dagger}_{2} c^{\\dagger}_{1} + 1 c^{\\dagger}_{3} c^{\\dagger}_{2} - 1 c_{1} c_{0} - 1 c_{2} c_{1} - 1 c_{3} c_{2} - 2^{4} c^{\\dagger}_{0} c_{0} - 2^{4} c^{\\dagger}_{3} c_{3} + 37^{1} - 7^{1} c^{\\dagger}_{0} c_{1} - 7^{1} c^{\\dagger}_{1} c_{0} - 7^{1} c^{\\dagger}_{1} c_{2} - 7^{1} c^{\\dagger}_{2} c_{1} - 7^{1} c^{\\dagger}_{2} c_{3} - 7^{1} c^{\\dagger}_{3} c_{2} - 2^{1} \\cdot 3^{1} c^{\\dagger}_{1} c_{1} - 2^{1} \\cdot 3^{1} c^{\\dagger}_{2} c_{2} + 2^{2} \\cdot 5^{1} c^{\\dagger}_{1} c^{\\dagger}_{0} c_{1} c_{0} + 2^{2} \\cdot 5^{1} c^{\\dagger}_{2} c^{\\dagger}_{1} c_{2} c_{1} + 2^{2} \\cdot 5^{1} c^{\\dagger}_{3} c^{\\dagger}_{2} c_{3} c_{2}$"
      ],
      "text/plain": [
       "1*c^\\dagger_1*c^\\dagger_0 + 1*c^\\dagger_2*c^\\dagger_1 + 1*c^\\dagger_3*c^\\dagger_2 - 1*c_1*c_0 - 1*c_2*c_1 - 1*c_3*c_2 - 2**4*c^\\dagger_0*c_0 - 2**4*c^\\dagger_3*c_3 + 37**1 - 7**1*c^\\dagger_0*c_1 - 7**1*c^\\dagger_1*c_0 - 7**1*c^\\dagger_1*c_2 - 7**1*c^\\dagger_2*c_1 - 7**1*c^\\dagger_2*c_3 - 7**1*c^\\dagger_3*c_2 - 2**1*3**1*c^\\dagger_1*c_1 - 2**1*3**1*c^\\dagger_2*c_2 + (2**2*5**1)*c^\\dagger_1*c^\\dagger_0*c_1*c_0 + (2**2*5**1)*c^\\dagger_2*c^\\dagger_1*c_2*c_1 + (2**2*5**1)*c^\\dagger_3*c^\\dagger_2*c_3*c_2"
      ]
     },
     "execution_count": 24,
     "metadata": {},
     "output_type": "execute_result"
    }
   ],
   "source": [
    "H_fermion = normal_ordered(reverse_jordan_wigner(H_spin))\n",
    "fermion_latex(H_fermion.terms)\n"
   ]
  }
 ],
 "metadata": {
  "interpreter": {
   "hash": "4156d86613a3d548fd1ddc27cbb5b410d33d2e0827c84e73f1d18915bd2213dd"
  },
  "kernelspec": {
   "display_name": "Python 3.8.2 ('base')",
   "language": "python",
   "name": "python3"
  },
  "language_info": {
   "codemirror_mode": {
    "name": "ipython",
    "version": 3
   },
   "file_extension": ".py",
   "mimetype": "text/x-python",
   "name": "python",
   "nbconvert_exporter": "python",
   "pygments_lexer": "ipython3",
   "version": "3.8.2"
  },
  "orig_nbformat": 4
 },
 "nbformat": 4,
 "nbformat_minor": 2
}
